{
 "cells": [
  {
   "cell_type": "code",
   "execution_count": 99,
   "metadata": {
    "collapsed": true
   },
   "outputs": [],
   "source": [
    "import pandas as pd\n",
    "import numpy as np\n",
    "import numpy.random\n",
    "import scipy.stats as ss\n",
    "import matplotlib.pyplot as plt\n",
    "import random\n",
    "from sklearn import preprocessing"
   ]
  },
  {
   "cell_type": "markdown",
   "metadata": {},
   "source": [
    "Generating $x_{i j}$"
   ]
  },
  {
   "cell_type": "code",
   "execution_count": 72,
   "metadata": {},
   "outputs": [],
   "source": [
    "# k_i=random.randint(1,6)\n",
    "\n",
    "# # A stream of indices from which to choose the component\n",
    "# mixture_idx = numpy.random.choice(weights, replace=True, p=weights)\n",
    "# # y is the mixture sample\n",
    "# #y = numpy.fromiter((ss.norm.rvs(*(norm_params[i])) for i in mixture_idx),\n",
    "#                    dtype=np.float64)"
   ]
  },
  {
   "cell_type": "code",
   "execution_count": 74,
   "metadata": {},
   "outputs": [
    {
     "data": {
      "text/plain": [
       "3"
      ]
     },
     "execution_count": 74,
     "metadata": {},
     "output_type": "execute_result"
    }
   ],
   "source": [
    "k_i=random.randint(1,6)\n",
    "k_i"
   ]
  },
  {
   "cell_type": "code",
   "execution_count": null,
   "metadata": {
    "collapsed": true
   },
   "outputs": [],
   "source": [
    "params=[]\n",
    "for i in range (k_i):\n",
    "    \n",
    "    #params=pd.DataFrame(columns=['mu','sigma'])\n",
    "    #Constructing k_ith gaussian\n",
    "    r_i = np.random.uniform(0,5)\n",
    "    s_i = np.random.uniform(0,5)\n",
    "    mu = np.random.normal(0, r_i)\n",
    "    sigma = np.abs(np.random.normal(0, s_i))\n",
    "    array=[mu,sigma]\n",
    "    params.append(array)\n",
    "    #params.append(({'mu':mu, 'sigma':sigma}, ignore_index=True))\n",
    "#     print(r_i,s_i,mu,sigma)\n",
    "df=pd.DataFrame(params,columns=['mu','sigma'])"
   ]
  },
  {
   "cell_type": "code",
   "execution_count": 75,
   "metadata": {},
   "outputs": [
    {
     "data": {
      "text/plain": [
       "array([0.60415608, 0.80380989, 0.02569248])"
      ]
     },
     "execution_count": 75,
     "metadata": {},
     "output_type": "execute_result"
    }
   ],
   "source": [
    "# Weight of each component\n",
    "weights = np.random.normal(0, 1, k_i)\n",
    "weights = np.absolute(weights)\n",
    "weights"
   ]
  },
  {
   "cell_type": "code",
   "execution_count": 76,
   "metadata": {},
   "outputs": [
    {
     "data": {
      "text/plain": [
       "{0.02569248040540845: 2, 0.6041560780700063: 0, 0.8038098859385128: 1}"
      ]
     },
     "execution_count": 76,
     "metadata": {},
     "output_type": "execute_result"
    }
   ],
   "source": [
    "inv_dict={}\n",
    "for i in range(k_i):\n",
    "    inv_dict[weights[i]]=i\n",
    "inv_dict"
   ]
  },
  {
   "cell_type": "code",
   "execution_count": 77,
   "metadata": {},
   "outputs": [
    {
     "data": {
      "text/plain": [
       "array([0.42140866, 0.56067042, 0.01792092])"
      ]
     },
     "execution_count": 77,
     "metadata": {},
     "output_type": "execute_result"
    }
   ],
   "source": [
    "normalized_weights = weights/(np.sum(weights))\n",
    "normalized_weights"
   ]
  },
  {
   "cell_type": "code",
   "execution_count": 78,
   "metadata": {},
   "outputs": [
    {
     "name": "stdout",
     "output_type": "stream",
     "text": [
      "0.8038098859385128\n"
     ]
    }
   ],
   "source": [
    "# A stream of indices from which to choose the component\n",
    "mixture_idx_weight = numpy.random.choice(weights, replace=True, p=normalized_weights)\n",
    "print(mixture_idx_weight)\n"
   ]
  },
  {
   "cell_type": "code",
   "execution_count": 79,
   "metadata": {},
   "outputs": [
    {
     "data": {
      "text/plain": [
       "1"
      ]
     },
     "execution_count": 79,
     "metadata": {},
     "output_type": "execute_result"
    }
   ],
   "source": [
    "mixture_idx = inv_dict[mixture_idx_weight]\n",
    "mixture_idx"
   ]
  },
  {
   "cell_type": "code",
   "execution_count": 84,
   "metadata": {},
   "outputs": [],
   "source": [
    "# params=[]\n",
    "# for i in range (k_i):\n",
    "    \n",
    "#     #params=pd.DataFrame(columns=['mu','sigma'])\n",
    "#     #Constructing k_ith gaussian\n",
    "#     r_i = np.random.uniform(0,5)\n",
    "#     s_i = np.random.uniform(0,5)\n",
    "#     mu = np.random.normal(0, r_i)\n",
    "#     sigma = np.abs(np.random.normal(0, s_i))\n",
    "#     array=[mu,sigma]\n",
    "#     params.append(array)\n",
    "#     #params.append(({'mu':mu, 'sigma':sigma}, ignore_index=True))\n",
    "# #     print(r_i,s_i,mu,sigma)"
   ]
  },
  {
   "cell_type": "code",
   "execution_count": 85,
   "metadata": {},
   "outputs": [
    {
     "data": {
      "text/html": [
       "<div>\n",
       "<style>\n",
       "    .dataframe thead tr:only-child th {\n",
       "        text-align: right;\n",
       "    }\n",
       "\n",
       "    .dataframe thead th {\n",
       "        text-align: left;\n",
       "    }\n",
       "\n",
       "    .dataframe tbody tr th {\n",
       "        vertical-align: top;\n",
       "    }\n",
       "</style>\n",
       "<table border=\"1\" class=\"dataframe\">\n",
       "  <thead>\n",
       "    <tr style=\"text-align: right;\">\n",
       "      <th></th>\n",
       "      <th>mu</th>\n",
       "      <th>sigma</th>\n",
       "    </tr>\n",
       "  </thead>\n",
       "  <tbody>\n",
       "    <tr>\n",
       "      <th>0</th>\n",
       "      <td>0.912011</td>\n",
       "      <td>0.632574</td>\n",
       "    </tr>\n",
       "    <tr>\n",
       "      <th>1</th>\n",
       "      <td>-1.653283</td>\n",
       "      <td>2.308266</td>\n",
       "    </tr>\n",
       "    <tr>\n",
       "      <th>2</th>\n",
       "      <td>0.013791</td>\n",
       "      <td>4.246187</td>\n",
       "    </tr>\n",
       "  </tbody>\n",
       "</table>\n",
       "</div>"
      ],
      "text/plain": [
       "         mu     sigma\n",
       "0  0.912011  0.632574\n",
       "1 -1.653283  2.308266\n",
       "2  0.013791  4.246187"
      ]
     },
     "execution_count": 85,
     "metadata": {},
     "output_type": "execute_result"
    }
   ],
   "source": [
    "# df=pd.DataFrame(params,columns=['mu','sigma'])\n",
    "# df"
   ]
  },
  {
   "cell_type": "code",
   "execution_count": 86,
   "metadata": {},
   "outputs": [
    {
     "data": {
      "text/plain": [
       "-0.13217678550438827"
      ]
     },
     "execution_count": 86,
     "metadata": {},
     "output_type": "execute_result"
    }
   ],
   "source": [
    "x_ij=np.random.normal(df['mu'][mixture_idx],df['sigma'][mixture_idx])\n",
    "x_ij"
   ]
  },
  {
   "cell_type": "code",
   "execution_count": 100,
   "metadata": {},
   "outputs": [],
   "source": [
    "m_i=100\n",
    "x=np.zeros(shape=(10000,100))\n",
    "for j in range(m_i):\n",
    "    mixture_idx_weight = numpy.random.choice(weights, replace=True, p=normalized_weights)\n",
    "    mixture_idx = inv_dict[mixture_idx_weight]\n",
    "    x[0][j]=np.random.normal(df['mu'][mixture_idx],df['sigma'][mixture_idx])\n",
    "\n"
   ]
  },
  {
   "cell_type": "code",
   "execution_count": 102,
   "metadata": {},
   "outputs": [
    {
     "data": {
      "text/plain": [
       "-0.8438314691934926"
      ]
     },
     "execution_count": 102,
     "metadata": {},
     "output_type": "execute_result"
    }
   ],
   "source": [
    "x[0].mean()"
   ]
  },
  {
   "cell_type": "code",
   "execution_count": 103,
   "metadata": {},
   "outputs": [
    {
     "data": {
      "text/plain": [
       "1.874248310483927"
      ]
     },
     "execution_count": 103,
     "metadata": {},
     "output_type": "execute_result"
    }
   ],
   "source": [
    "x[0].std()"
   ]
  },
  {
   "cell_type": "code",
   "execution_count": 104,
   "metadata": {
    "collapsed": true
   },
   "outputs": [],
   "source": [
    "X_scaled = preprocessing.scale(x[0])"
   ]
  },
  {
   "cell_type": "code",
   "execution_count": 105,
   "metadata": {},
   "outputs": [
    {
     "data": {
      "text/plain": [
       "8.826273045769995e-17"
      ]
     },
     "execution_count": 105,
     "metadata": {},
     "output_type": "execute_result"
    }
   ],
   "source": [
    "X_scaled.mean()"
   ]
  },
  {
   "cell_type": "code",
   "execution_count": 106,
   "metadata": {},
   "outputs": [
    {
     "data": {
      "text/plain": [
       "1.0"
      ]
     },
     "execution_count": 106,
     "metadata": {},
     "output_type": "execute_result"
    }
   ],
   "source": [
    "X_scaled.std()"
   ]
  },
  {
   "cell_type": "code",
   "execution_count": 94,
   "metadata": {},
   "outputs": [],
   "source": [
    "n=10000\n",
    "m_i=100\n",
    "x=np.zeros(shape=(10000,100))\n",
    "for i in range (n):\n",
    "    k_i=random.randint(1,6)\n",
    "    params=[]\n",
    "    r_i = np.random.uniform(0,5)\n",
    "    s_i = np.random.uniform(0,5)\n",
    "    for u in range (k_i):\n",
    "\n",
    "        #params=pd.DataFrame(columns=['mu','sigma'])\n",
    "        #Constructing k_ith gaussian\n",
    "\n",
    "        mu = np.random.normal(0, r_i)\n",
    "        sigma = np.abs(np.random.normal(0, s_i))\n",
    "        array=[mu,sigma]\n",
    "        params.append(array)\n",
    "        #params.append(({'mu':mu, 'sigma':sigma}, ignore_index=True))\n",
    "    #     print(r_i,s_i,mu,sigma)\n",
    "    df=pd.DataFrame(params,columns=['mu','sigma'])\n",
    "    \n",
    "    weights = np.random.normal(0, 1, k_i)\n",
    "    weights = np.absolute(weights)\n",
    "    inv_dict={}\n",
    "    for v in range(k_i):\n",
    "        inv_dict[weights[v]]=v\n",
    "        \n",
    "    normalized_weights = weights/(np.sum(weights))\n",
    "    \n",
    "#     mixture_idx_weight = numpy.random.choice(weights, replace=True, p=normalized_weights)\n",
    "    \n",
    "#     mixture_idx = inv_dict[mixture_idx_weight]\n",
    "\n",
    "    \n",
    "    for j in range(m_i):\n",
    "        mixture_idx_weight = numpy.random.choice(weights, replace=True, p=normalized_weights)\n",
    "        mixture_idx = inv_dict[mixture_idx_weight]\n",
    "        x[i][j]=np.random.normal(df['mu'][mixture_idx],df['sigma'][mixture_idx])\n",
    "        \n",
    "    x[i] = preprocessing.scale(x[i])"
   ]
  },
  {
   "cell_type": "code",
   "execution_count": 97,
   "metadata": {},
   "outputs": [
    {
     "data": {
      "text/plain": [
       "(100,)"
      ]
     },
     "execution_count": 97,
     "metadata": {},
     "output_type": "execute_result"
    }
   ],
   "source": [
    "x[4].shape"
   ]
  },
  {
   "cell_type": "code",
   "execution_count": 109,
   "metadata": {},
   "outputs": [
    {
     "ename": "TypeError",
     "evalue": "data type not understood",
     "output_type": "error",
     "traceback": [
      "\u001b[0;31m---------------------------------------------------------------------------\u001b[0m",
      "\u001b[0;31mTypeError\u001b[0m                                 Traceback (most recent call last)",
      "\u001b[0;32m<ipython-input-109-9fab4461c507>\u001b[0m in \u001b[0;36m<module>\u001b[0;34m()\u001b[0m\n\u001b[0;32m----> 1\u001b[0;31m \u001b[0mplt\u001b[0m\u001b[0;34m.\u001b[0m\u001b[0mscatter\u001b[0m\u001b[0;34m(\u001b[0m\u001b[0mnp\u001b[0m\u001b[0;34m.\u001b[0m\u001b[0mones\u001b[0m\u001b[0;34m(\u001b[0m\u001b[0;36m100\u001b[0m\u001b[0;34m,\u001b[0m\u001b[0;36m1\u001b[0m\u001b[0;34m)\u001b[0m\u001b[0;34m,\u001b[0m\u001b[0mx\u001b[0m\u001b[0;34m[\u001b[0m\u001b[0;36m6\u001b[0m\u001b[0;34m]\u001b[0m\u001b[0;34m)\u001b[0m\u001b[0;34m\u001b[0m\u001b[0m\n\u001b[0m\u001b[1;32m      2\u001b[0m \u001b[0mplt\u001b[0m\u001b[0;34m.\u001b[0m\u001b[0mshow\u001b[0m\u001b[0;34m(\u001b[0m\u001b[0;34m)\u001b[0m\u001b[0;34m\u001b[0m\u001b[0m\n",
      "\u001b[0;32m/users/gpu/vipulbjj/.local/lib/python2.7/site-packages/numpy/core/numeric.pyc\u001b[0m in \u001b[0;36mones\u001b[0;34m(shape, dtype, order)\u001b[0m\n\u001b[1;32m    186\u001b[0m \u001b[0;34m\u001b[0m\u001b[0m\n\u001b[1;32m    187\u001b[0m     \"\"\"\n\u001b[0;32m--> 188\u001b[0;31m     \u001b[0ma\u001b[0m \u001b[0;34m=\u001b[0m \u001b[0mempty\u001b[0m\u001b[0;34m(\u001b[0m\u001b[0mshape\u001b[0m\u001b[0;34m,\u001b[0m \u001b[0mdtype\u001b[0m\u001b[0;34m,\u001b[0m \u001b[0morder\u001b[0m\u001b[0;34m)\u001b[0m\u001b[0;34m\u001b[0m\u001b[0m\n\u001b[0m\u001b[1;32m    189\u001b[0m     \u001b[0mmultiarray\u001b[0m\u001b[0;34m.\u001b[0m\u001b[0mcopyto\u001b[0m\u001b[0;34m(\u001b[0m\u001b[0ma\u001b[0m\u001b[0;34m,\u001b[0m \u001b[0;36m1\u001b[0m\u001b[0;34m,\u001b[0m \u001b[0mcasting\u001b[0m\u001b[0;34m=\u001b[0m\u001b[0;34m'unsafe'\u001b[0m\u001b[0;34m)\u001b[0m\u001b[0;34m\u001b[0m\u001b[0m\n\u001b[1;32m    190\u001b[0m     \u001b[0;32mreturn\u001b[0m \u001b[0ma\u001b[0m\u001b[0;34m\u001b[0m\u001b[0m\n",
      "\u001b[0;31mTypeError\u001b[0m: data type not understood"
     ]
    }
   ],
   "source": [
    "plt.scatter(np.ones(100,1),x[6])\n",
    "plt.show()"
   ]
  },
  {
   "cell_type": "code",
   "execution_count": null,
   "metadata": {
    "collapsed": true
   },
   "outputs": [],
   "source": []
  }
 ],
 "metadata": {
  "kernelspec": {
   "display_name": "Python 2",
   "language": "python",
   "name": "python2"
  },
  "language_info": {
   "codemirror_mode": {
    "name": "ipython",
    "version": 2
   },
   "file_extension": ".py",
   "mimetype": "text/x-python",
   "name": "python",
   "nbconvert_exporter": "python",
   "pygments_lexer": "ipython2",
   "version": "2.7.14"
  }
 },
 "nbformat": 4,
 "nbformat_minor": 2
}
